{
 "cells": [
  {
   "cell_type": "code",
   "execution_count": 1,
   "id": "59150379-ef77-45d6-9604-3d34bbd2e2ee",
   "metadata": {
    "tags": []
   },
   "outputs": [
    {
     "name": "stdout",
     "output_type": "stream",
     "text": [
      "Requirement already satisfied: ultralytics in c:\\downloads\\anaconda\\envs\\py29\\lib\\site-packages (8.0.155)\n",
      "Requirement already satisfied: matplotlib>=3.2.2 in c:\\downloads\\anaconda\\envs\\py29\\lib\\site-packages (from ultralytics) (3.7.1)\n",
      "Requirement already satisfied: numpy>=1.22.2 in c:\\downloads\\anaconda\\envs\\py29\\lib\\site-packages (from ultralytics) (1.22.4)\n",
      "Requirement already satisfied: opencv-python>=4.6.0 in c:\\downloads\\anaconda\\envs\\py29\\lib\\site-packages (from ultralytics) (4.8.0.76)\n",
      "Requirement already satisfied: pillow>=7.1.2 in c:\\downloads\\anaconda\\envs\\py29\\lib\\site-packages (from ultralytics) (9.4.0)\n",
      "Requirement already satisfied: pyyaml>=5.3.1 in c:\\downloads\\anaconda\\envs\\py29\\lib\\site-packages (from ultralytics) (6.0)\n",
      "Requirement already satisfied: requests>=2.23.0 in c:\\downloads\\anaconda\\envs\\py29\\lib\\site-packages (from ultralytics) (2.29.0)\n",
      "Requirement already satisfied: scipy>=1.4.1 in c:\\downloads\\anaconda\\envs\\py29\\lib\\site-packages (from ultralytics) (1.7.3)\n",
      "Requirement already satisfied: torch>=1.8.0 in c:\\downloads\\anaconda\\envs\\py29\\lib\\site-packages (from ultralytics) (1.10.1+cu113)\n",
      "Requirement already satisfied: torchvision>=0.9.0 in c:\\downloads\\anaconda\\envs\\py29\\lib\\site-packages (from ultralytics) (0.11.2+cu113)\n",
      "Requirement already satisfied: tqdm>=4.64.0 in c:\\downloads\\anaconda\\envs\\py29\\lib\\site-packages (from ultralytics) (4.65.0)\n",
      "Requirement already satisfied: pandas>=1.1.4 in c:\\downloads\\anaconda\\envs\\py29\\lib\\site-packages (from ultralytics) (1.5.3)\n",
      "Requirement already satisfied: seaborn>=0.11.0 in c:\\downloads\\anaconda\\envs\\py29\\lib\\site-packages (from ultralytics) (0.12.2)\n",
      "Requirement already satisfied: psutil in c:\\downloads\\anaconda\\envs\\py29\\lib\\site-packages (from ultralytics) (5.9.0)\n",
      "Requirement already satisfied: py-cpuinfo in c:\\downloads\\anaconda\\envs\\py29\\lib\\site-packages (from ultralytics) (9.0.0)\n",
      "Requirement already satisfied: contourpy>=1.0.1 in c:\\downloads\\anaconda\\envs\\py29\\lib\\site-packages (from matplotlib>=3.2.2->ultralytics) (1.0.5)\n",
      "Requirement already satisfied: cycler>=0.10 in c:\\downloads\\anaconda\\envs\\py29\\lib\\site-packages (from matplotlib>=3.2.2->ultralytics) (0.11.0)\n",
      "Requirement already satisfied: fonttools>=4.22.0 in c:\\downloads\\anaconda\\envs\\py29\\lib\\site-packages (from matplotlib>=3.2.2->ultralytics) (4.25.0)\n",
      "Requirement already satisfied: kiwisolver>=1.0.1 in c:\\downloads\\anaconda\\envs\\py29\\lib\\site-packages (from matplotlib>=3.2.2->ultralytics) (1.4.4)\n",
      "Requirement already satisfied: packaging>=20.0 in c:\\downloads\\anaconda\\envs\\py29\\lib\\site-packages (from matplotlib>=3.2.2->ultralytics) (23.0)\n",
      "Requirement already satisfied: pyparsing>=2.3.1 in c:\\downloads\\anaconda\\envs\\py29\\lib\\site-packages (from matplotlib>=3.2.2->ultralytics) (3.0.9)\n",
      "Requirement already satisfied: python-dateutil>=2.7 in c:\\downloads\\anaconda\\envs\\py29\\lib\\site-packages (from matplotlib>=3.2.2->ultralytics) (2.8.2)\n",
      "Requirement already satisfied: importlib-resources>=3.2.0 in c:\\downloads\\anaconda\\envs\\py29\\lib\\site-packages (from matplotlib>=3.2.2->ultralytics) (5.2.0)\n",
      "Requirement already satisfied: pytz>=2020.1 in c:\\downloads\\anaconda\\envs\\py29\\lib\\site-packages (from pandas>=1.1.4->ultralytics) (2022.7)\n",
      "Requirement already satisfied: charset-normalizer<4,>=2 in c:\\downloads\\anaconda\\envs\\py29\\lib\\site-packages (from requests>=2.23.0->ultralytics) (2.0.4)\n",
      "Requirement already satisfied: idna<4,>=2.5 in c:\\downloads\\anaconda\\envs\\py29\\lib\\site-packages (from requests>=2.23.0->ultralytics) (3.4)\n",
      "Requirement already satisfied: urllib3<1.27,>=1.21.1 in c:\\downloads\\anaconda\\envs\\py29\\lib\\site-packages (from requests>=2.23.0->ultralytics) (1.26.16)\n",
      "Requirement already satisfied: certifi>=2017.4.17 in c:\\downloads\\anaconda\\envs\\py29\\lib\\site-packages (from requests>=2.23.0->ultralytics) (2023.5.7)\n",
      "Requirement already satisfied: typing-extensions in c:\\downloads\\anaconda\\envs\\py29\\lib\\site-packages (from torch>=1.8.0->ultralytics) (4.6.3)\n",
      "Requirement already satisfied: colorama in c:\\downloads\\anaconda\\envs\\py29\\lib\\site-packages (from tqdm>=4.64.0->ultralytics) (0.4.6)\n",
      "Requirement already satisfied: zipp>=3.1.0 in c:\\downloads\\anaconda\\envs\\py29\\lib\\site-packages (from importlib-resources>=3.2.0->matplotlib>=3.2.2->ultralytics) (3.11.0)\n",
      "Requirement already satisfied: six>=1.5 in c:\\downloads\\anaconda\\envs\\py29\\lib\\site-packages (from python-dateutil>=2.7->matplotlib>=3.2.2->ultralytics) (1.16.0)\n"
     ]
    }
   ],
   "source": [
    "!pip install ultralytics"
   ]
  },
  {
   "cell_type": "code",
   "execution_count": 2,
   "id": "b60fa7ae-0430-4cf3-b33a-35aa2f77b7c5",
   "metadata": {},
   "outputs": [
    {
     "ename": "SyntaxError",
     "evalue": "invalid syntax (4108426081.py, line 2)",
     "output_type": "error",
     "traceback": [
      "\u001b[1;36m  Cell \u001b[1;32mIn[2], line 2\u001b[1;36m\u001b[0m\n\u001b[1;33m    from ultralytics.yolo.v8.detect.predict DetectionPredictor\u001b[0m\n\u001b[1;37m                                            ^\u001b[0m\n\u001b[1;31mSyntaxError\u001b[0m\u001b[1;31m:\u001b[0m invalid syntax\n"
     ]
    }
   ],
   "source": [
    "from ultralytics import YOLO\n",
    "from ultralytics.yolo.v8.detect.predict DetectionPredictor\n",
    "import cv2 "
   ]
  },
  {
   "cell_type": "code",
   "execution_count": 9,
   "id": "0b43b392-cc9f-435e-889d-28ad14db0910",
   "metadata": {
    "tags": []
   },
   "outputs": [
    {
     "name": "stdout",
     "output_type": "stream",
     "text": [
      "If you have questions or suggestions, feel free to open an issue at https://github.com/DIAGNijmegen/picai_baseline\n",
      "\n",
      "Saving training fold 0 with 1035 cases to \\workdir\\splits\\picai_nnunet\\ds-config-train-fold-0.json\n",
      "Saving training fold 1 with 1031 cases to \\workdir\\splits\\picai_nnunet\\ds-config-train-fold-1.json\n",
      "Saving training fold 2 with 1041 cases to \\workdir\\splits\\picai_nnunet\\ds-config-train-fold-2.json\n",
      "Saving training fold 3 with 1030 cases to \\workdir\\splits\\picai_nnunet\\ds-config-train-fold-3.json\n",
      "Saving training fold 4 with 1043 cases to \\workdir\\splits\\picai_nnunet\\ds-config-train-fold-4.json\n",
      "Saving training fold 0 with 260 cases to \\workdir\\splits\\picai_nnunet\\ds-config-valid-fold-0.json\n",
      "Saving training fold 1 with 264 cases to \\workdir\\splits\\picai_nnunet\\ds-config-valid-fold-1.json\n",
      "Saving training fold 2 with 254 cases to \\workdir\\splits\\picai_nnunet\\ds-config-valid-fold-2.json\n",
      "Saving training fold 3 with 265 cases to \\workdir\\splits\\picai_nnunet\\ds-config-valid-fold-3.json\n",
      "Saving training fold 4 with 252 cases to \\workdir\\splits\\picai_nnunet\\ds-config-valid-fold-4.json\n",
      "Saving splits in nnUNet format to \\workdir\\splits\\picai_nnunet\\splits.json\n"
     ]
    }
   ],
   "source": [
    "!python -m picai_baseline.splits.picai_nnunet --output \"/workdir/splits/picai_nnunet\""
   ]
  },
  {
   "cell_type": "code",
   "execution_count": 10,
   "id": "44fda771-2c8c-40a0-ba66-d2154fdc18b0",
   "metadata": {
    "tags": []
   },
   "outputs": [
    {
     "name": "stderr",
     "output_type": "stream",
     "text": [
      "python: can't open file 'C:\\Users\\Admin\\Documents\\MIR_prostate\\src\\picai_baseline\\prepare_data.py': [Errno 2] No such file or directory\n"
     ]
    }
   ],
   "source": [
    "!python src/picai_baseline/prepare_data.py"
   ]
  },
  {
   "cell_type": "code",
   "execution_count": null,
   "id": "f48d3a4d-bb55-49dc-8105-3c795c6a73c0",
   "metadata": {},
   "outputs": [],
   "source": []
  }
 ],
 "metadata": {
  "kernelspec": {
   "display_name": "py29",
   "language": "python",
   "name": "py29"
  },
  "language_info": {
   "codemirror_mode": {
    "name": "ipython",
    "version": 3
   },
   "file_extension": ".py",
   "mimetype": "text/x-python",
   "name": "python",
   "nbconvert_exporter": "python",
   "pygments_lexer": "ipython3",
   "version": "3.9.17"
  }
 },
 "nbformat": 4,
 "nbformat_minor": 5
}
